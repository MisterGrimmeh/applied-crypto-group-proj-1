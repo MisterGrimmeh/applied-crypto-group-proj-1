{
 "cells": [
  {
   "cell_type": "markdown",
   "id": "85f1c57c-efaa-4978-ac32-8a07150d0727",
   "metadata": {},
   "source": [
    "Problem 4: Cryptanalysis of a Many-Time Pad"
   ]
  },
  {
   "cell_type": "code",
   "execution_count": 1,
   "id": "d53919af-cad5-41cf-bf92-521adccd52a0",
   "metadata": {},
   "outputs": [
    {
     "name": "stdout",
     "output_type": "stream",
     "text": [
      "Counter({'fe': 19, 'ef': 18, '1f': 15, '89': 15, 'f5': 15, '71': 14, '8c': 14, 'ff': 14, '5c': 14, '7c': 13, 'd7': 13, 'c4': 13, 'f8': 13, '5d': 13, 'a1': 13, 'ab': 13, 'e5': 13, '0b': 13, 'fd': 13, '1a': 12, 'cf': 12, '14': 12, 'c3': 12, '9c': 12, 'b8': 12, '88': 12, 'be': 12, '01': 12, 'cc': 12, '97': 12, 'e1': 11, 'ce': 11, '08': 11, '87': 11, '3a': 11, '86': 11, '7e': 11, 'e0': 11, 'df': 11, '84': 11, 'f0': 11, '48': 11, '5e': 11, '5b': 11, '43': 10, 'cd': 10, 'b3': 10, 'b0': 10, '6e': 10, '3f': 10, '4d': 10, '4f': 10, 'c7': 10, 'a5': 10, 'b1': 10, '9d': 10, 'e7': 10, '29': 10, '0c': 10, 'ac': 9, 'e4': 9, '17': 9, '98': 9, 'd6': 9, 'd8': 9, 'fa': 9, 'c5': 9, '45': 9, '6a': 9, '40': 9, '9a': 9, '0f': 9, '60': 9, '81': 9, 'c9': 8, '18': 8, '3b': 8, '83': 8, '56': 8, '15': 8, 'b4': 8, '46': 8, '59': 8, '4e': 8, 'de': 8, '19': 8, '0a': 8, '65': 8, 'cb': 8, '30': 8, 'c1': 8, '64': 8, '38': 7, '90': 7, '82': 7, '85': 7, 'e3': 7, 'eb': 7, '05': 7, '4b': 7, '8e': 7, '1d': 7, '1c': 7, 'b5': 7, '68': 7, '8f': 7, 'f6': 7, '3d': 7, 'd4': 7, '5a': 7, '7b': 7, '8a': 7, 'af': 7, '55': 7, '74': 7, 'e2': 7, '2e': 7, '4c': 7, '57': 7, 'bf': 7, 'a0': 7, '58': 7, '96': 7, 'f2': 7, '76': 7, 'b9': 7, '50': 7, '04': 7, '79': 7, 'c8': 7, '78': 7, 'd2': 7, '3c': 7, 'fb': 7, 'fc': 7, 'bc': 7, 'ec': 7, '61': 6, '11': 6, '28': 6, '51': 6, 'f3': 6, 'f1': 6, '09': 6, 'ee': 6, '54': 6, '4a': 6, 'e9': 6, 'ad': 6, 'db': 6, 'f4': 6, '1e': 6, 'e8': 6, 'e6': 6, '12': 6, '2f': 6, '9f': 6, '39': 6, '75': 6, '44': 6, 'a4': 6, '2c': 6, '77': 6, '69': 6, '93': 6, 'ea': 6, '13': 6, '42': 6, '26': 5, '1b': 5, '94': 5, 'a8': 5, 'c0': 5, '07': 5, '95': 5, 'ae': 5, '7f': 5, '9b': 5, '2b': 5, 'b2': 5, 'a9': 5, 'ca': 5, 'a2': 5, '10': 5, '37': 5, '20': 5, 'a3': 5, 'd9': 5, 'd3': 5, '0e': 5, 'c2': 5, '91': 5, '02': 5, '23': 5, '31': 5, '6d': 5, '80': 5, '72': 4, '66': 4, '41': 4, 'f9': 4, 'ba': 4, '67': 4, '3e': 4, 'd0': 4, 'd5': 4, 'da': 4, '2d': 4, '06': 4, '92': 4, '5f': 4, '49': 4, 'b6': 4, 'a6': 4, '6f': 4, 'bb': 4, '63': 4, '6b': 4, '36': 4, 'd1': 3, 'b7': 3, 'ed': 3, '22': 3, '21': 3, '53': 3, '9e': 3, 'bd': 3, '25': 3, 'dc': 3, '35': 3, '8b': 3, 'aa': 3, '7a': 3, '34': 3, '00': 3, '24': 3, '27': 3, '8d': 3, '6c': 2, '7d': 2, 'dd': 2, '2a': 2, '47': 2, '70': 2, '33': 2, 'c6': 2, '32': 2, '0d': 2, '52': 2, 'a7': 2, '73': 2, '03': 1, 'f7': 1, '16': 1, '62': 1, '99': 1})\n",
      "Counter({'00': 1085, '01': 405, '11': 367, '10': 331, '54': 324, '41': 315, '04': 290, '45': 290, '50': 236, '40': 207, '1b': 192, '06': 188, '15': 184, '0a': 178, '30': 176, '44': 170, '51': 170, '0d': 162, '05': 160, '20': 159, '07': 156, '70': 156, 'c0': 156, '14': 156, '1c': 148, '61': 147, '02': 146, '16': 144, 'd0': 144, '60': 141, '80': 139, '1a': 138, 'f0': 137, '18': 136, '17': 136, '55': 134, '03': 134, 'a0': 132, '0e': 130, '4f': 130, '0c': 128, 'b0': 125, '21': 125, 'e0': 124, '53': 122, '31': 120, '90': 119, '91': 116, '1d': 114, '1f': 114, '0b': 112, '71': 112, '08': 110, '52': 110, 'a4': 110, 'd1': 106, '09': 104, '64': 104, '49': 104, 'f1': 103, '12': 98, '4e': 96, 'e1': 96, '13': 94, '48': 94, '81': 93, '74': 86, '0f': 80, 'b4': 80, '43': 78, 'b1': 77, 'c1': 72, '1e': 70, '19': 70, 'a1': 68, 'c4': 66, '4c': 64, '85': 64, '34': 62, '46': 58, '84': 56, '24': 56, 'b5': 56, 'd4': 54, 'c5': 54, '57': 54, '4d': 52, 'e4': 48, '59': 46, '94': 46, '95': 46, 'f4': 46, '35': 44, '25': 38, '75': 38, '65': 38, 'a5': 36, 'e5': 36, '42': 36, 'f5': 32, 'd5': 28, '47': 28, '56': 24, '4b': 20, '5a': 18, '27': 16, '5e': 16, '26': 16, '32': 14, '4a': 12, 'c2': 10, '3c': 10, 'f3': 10, '3b': 8, '68': 8, '23': 8, '2c': 8, '5b': 8, '69': 8, '37': 8, '36': 8, '72': 6, 'e2': 6, '5c': 6, '2f': 6, '2b': 6, 'e3': 4, '3d': 4, 'c3': 4, '38': 4, '39': 4, '92': 4, '2d': 4, '82': 4, '96': 4, '62': 4, '58': 4, '5f': 4, 'f6': 4, 'b2': 4, 'b3': 2, 'c6': 2, 'e6': 2, '83': 2, 'd7': 2, '78': 2, 'd3': 2, 'b7': 2, '93': 2, '5d': 2, 'f2': 2, '73': 2, '6e': 2, 'd2': 2, '3a': 2, 'a6': 2, '2e': 2, '29': 2, '33': 2})\n"
     ]
    }
   ],
   "source": [
    "from collections import Counter #used to create frequency counter function\n",
    "#Provided ciphertexts\n",
    "c1 = \"\"\"71fe1ace4389087266117cd7c98c4182851b3acff3b086e3f83f94d6eb05c4ba85d8e1fa14f11d1c3b568ff6cff5c09c5d67ef5c9c71b7eeb3d45a5154ab17b83e071ce9d8988adb4afedf46a840\"\"\"\n",
    "c2 = \"\"\"71fe1ace559a1e7266117cd7ce8745d7be2e74c3f0f68eeef57e8884e607debf81dfa0f012f95819681ae7f29fe4839b5175ef5e8760bef0b9d44b504eba12b22f5404f89dd085d550a48865a14f9b15a94dabe609ca2df2cccf210cefdb1af5389719795e1f0179cb77c5c456954d88f3\"\"\"\n",
    "c3 = \"\"\"72fe069c51c81a20775928c7879d4fd2a93c3acff3f69fe5fe2e9493a303d9ea98c4e5b60ae40a146058e7c787fbd09a1474e25dc865b5e6af865d4a40a61bfd384e06e0cfc1ccd356ff8853ac438905fa5fe3fd41cb3bbc8ac9\"\"\"\n",
    "c4 = \"\"\"67e543885b9a5b2267177084cf8453ccb8633ad7fdb39de5b13f8a93a304d6bf8bc4f4ef5def110b6f56a3e186e2c68c1470ef5c9c2ffbd6a291571e40ba1afd3b4b1fe0c4cbccc15df5dc07b043da01fa6ae4fd158f37b3c0cd\"\"\"\n",
    "c5 = \"\"\"71fe029a148c1236320d7192878a59cfbc3a6ec5e7f68befb13196d6ea1ec4ea81d9e3fe50ea0f196d02a2f7cfe2c29c5577e35d8630baf6ea80465b01aa1abc394f57a1f4ccccda59ff8846e44b8805bb5cabe608c231f2dec8364ae7d90ab4358c5c3a421b06\"\"\"\n",
    "c6 = \"\"\"6ef914ce5989152b321a769ad79c42c7be6f6ad2fab19de1fc339d84f04ad3a589dfa0ff09ab0c196f13e7e780b4c097556ded57c871fbeea393464a01aa0ab1381848cfd2d6898918efc046b00b8940bb08e3f313cb23b3dfd8645cfcd80ff82489\"\"\"\n",
    "c7 = \"\"\"71fe1ace4389087266117cd7c4865bd2b93b7fd2b5a58ce9f4308c9ff01e97ab82cbf2ef5dfc101d6a56b3fb8ab4d08b4167ef5c9c30b8f0ab97455b45e81efd364605e49ddb83df48eedc42b60c900fb14db4b229ca74b6c4d96442e1c34df8288f5c3a450a527ecc7c82865b8e\"\"\"\n",
    "c8 = \"\"\"71fe029a148c1437615978d7c58854dbec2c75cde5a39be5e37e9b97ef0697a285dfa0f01cff101d764983f29bf5\"\"\"\n",
    "c9 = \"\"\"71fe1ace50875b31730d6ad7cb8640c7ec3c73d4e1bf81e7b13796d6e518d8a4988ceff05dff101d2415a8fe9fe1d79a4623eb5e8430bfe3b3d442514faf40fd18420be0c8cb89924cf3cd5ee448950efd5cabe500c120f2d9d26440ebc34de029811977430b01748276d79012955cc6a65aebb9054becda5c9278\"\"\"\n",
    "c10 = \"\"\"71fe029a1483123c76597691878459cca9363ac4faf68ceffc2e8d82e61897b98fc5e5f809e20b0c7756b2e08aab83bc5560e257\"\"\"\n",
    "c_target = \"\"\"71fe0680149d083b7c1e3996879a42d0a92e7780f6bf9fe8f42cd898e61cd2b8ccd9f3f35dff101d241da2eacff9cc8d5123fe5a897efbeda4974b\"\"\"\n",
    "\n",
    "#create a list of the provided hex ciphertexts\n",
    "original_ciphertexts = [c1,c2,c3,c4,c5,c6,c7,c8,c9,c10]\n",
    "#list for storing the ciphertexts as byte strings\n",
    "encoded_ciphertests = []\n",
    "#list for storing the resulting xored byte strings\n",
    "xoredciphertexts=[]\n",
    "#list for storing the xored hex strings\n",
    "xoredciphertexts_hex = []\n",
    "\n",
    "#encode the ciphertexts into an XORable format\n",
    "for i in range(len(original_ciphertexts)):\n",
    "    encoded_ciphertests.append(bytes.fromhex(original_ciphertexts[i]))\n",
    "\n",
    "#function for XOR two of the bytestrings\n",
    "\n",
    "def xor_strings(x,y):\n",
    "    return bytes(a^b for a,b in zip(x,y))\n",
    "\n",
    "#XOR the ciphertexts with each other, store the results in xoredciphertexts \n",
    "for i in range(len(encoded_ciphertests)):\n",
    "    for j in range(len(encoded_ciphertests)):\n",
    "        if encoded_ciphertests[i] != encoded_ciphertests[j]:\n",
    "            xored_res = xor_strings(encoded_ciphertests[i],encoded_ciphertests[j])\n",
    "            xoredciphertexts.append(xored_res)\n",
    "            xoredciphertexts_hex.append(xored_res.hex())\n",
    "\n",
    "#create a function to try xoring different cribs  \n",
    "def crib_xor(crib):\n",
    "    for i in range(len(xoredciphertexts)):\n",
    "        xor_strings(crib, xoredciphertexts[i])\n",
    "        print(xoredciphertexts[i])\n",
    "\n",
    "#crib = input(\"Please enter a crib word: \").encode()\n",
    "#crib_xor(crib)\n",
    "\n",
    "#function to do frequency analysis on xored strings\n",
    "def bigram_counter(input_string):\n",
    "    res = Counter(input_string[idx : idx + 2] for idx in range(len(input_string)-1))\n",
    "    return(res)\n",
    "\n",
    "onelongstring_original = \"\".join(original_ciphertexts)\n",
    "onelongstring_xored = \"\".join(xoredciphertexts_hex)\n",
    "print(bigram_counter(onelongstring_original))\n",
    "print(bigram_counter(onelongstring_xored))\n",
    "\n"
   ]
  },
  {
   "cell_type": "code",
   "execution_count": null,
   "id": "2d3c8071-a579-404a-a26e-8496c596563d",
   "metadata": {},
   "outputs": [],
   "source": []
  }
 ],
 "metadata": {
  "kernelspec": {
   "display_name": "Python 3 (ipykernel)",
   "language": "python",
   "name": "python3"
  },
  "language_info": {
   "codemirror_mode": {
    "name": "ipython",
    "version": 3
   },
   "file_extension": ".py",
   "mimetype": "text/x-python",
   "name": "python",
   "nbconvert_exporter": "python",
   "pygments_lexer": "ipython3",
   "version": "3.13.0"
  }
 },
 "nbformat": 4,
 "nbformat_minor": 5
}
