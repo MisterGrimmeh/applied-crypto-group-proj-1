{
  "nbformat": 4,
  "nbformat_minor": 0,
  "metadata": {
    "colab": {
      "provenance": [],
      "authorship_tag": "ABX9TyMPNtzN/sAzHtbVEJ493+Yk",
      "include_colab_link": true
    },
    "kernelspec": {
      "name": "python3",
      "display_name": "Python 3"
    },
    "language_info": {
      "name": "python"
    }
  },
  "cells": [
    {
      "cell_type": "markdown",
      "metadata": {
        "id": "view-in-github",
        "colab_type": "text"
      },
      "source": [
        "<a href=\"https://colab.research.google.com/github/MisterGrimmeh/applied-crypto-group-proj-1/blob/problem2/Project1_Problem2.ipynb\" target=\"_parent\"><img src=\"https://colab.research.google.com/assets/colab-badge.svg\" alt=\"Open In Colab\"/></a>"
      ]
    },
    {
      "cell_type": "markdown",
      "source": [
        "# Problem 2: One-Time Pad Implementation\n"
      ],
      "metadata": {
        "id": "hzZDJUSOLDnx"
      }
    },
    {
      "cell_type": "code",
      "execution_count": 1,
      "metadata": {
        "colab": {
          "base_uri": "https://localhost:8080/"
        },
        "id": "auI0Mt7mJbF9",
        "outputId": "0ce9845a-e7c3-472b-c3f7-f0d33f3bd73c"
      },
      "outputs": [
        {
          "output_type": "stream",
          "name": "stdout",
          "text": [
            "Enter the plaintext: hello world\n",
            "\n",
            "--- Encryption Complete ---\n",
            "Plaintext:         hello world\n",
            "Key (hex):         7ca8980a42c20dc8f9cdd3\n",
            "Ciphertext (hex):  14cdf4662de27aa78ba1b7\n"
          ]
        }
      ],
      "source": [
        "import secrets\n",
        "\n",
        "def otp_encrypt(plaintext: bytes, key: bytes) -> bytes:\n",
        "    \"\"\"One-Time Pad encryption: ciphertext = plaintext XOR key.\"\"\"\n",
        "    return bytes([p ^ k for p, k in zip(plaintext, key)])\n",
        "\n",
        "# ===Alice's encryption ===\n",
        "plaintext_str = input(\"Enter the plaintext: \")\n",
        "plaintext_bytes = plaintext_str.encode('utf-8')\n",
        "\n",
        "# Generate random key of the same length\n",
        "key_bytes = secrets.token_bytes(len(plaintext_bytes))\n",
        "\n",
        "# Encrypt via OTP (XOR)\n",
        "ciphertext_bytes = otp_encrypt(plaintext_bytes, key_bytes)\n",
        "\n",
        "# Convert key and ciphertext to hex for storage\n",
        "ciphertext_hex = ciphertext_bytes.hex()\n",
        "key_hex = key_bytes.hex()\n",
        "\n",
        "# Write to separate files\n",
        "with open(\"ciphertext.hex\", \"w\") as f_ct:\n",
        "    f_ct.write(ciphertext_hex)\n",
        "\n",
        "with open(\"key.hex\", \"w\") as f_key:\n",
        "    f_key.write(key_hex)\n",
        "\n",
        "print(f\"\\n--- Encryption Complete ---\")\n",
        "print(f\"Plaintext:         {plaintext_str}\")\n",
        "print(f\"Key (hex):         {key_hex}\")\n",
        "print(f\"Ciphertext (hex):  {ciphertext_hex}\")\n"
      ]
    },
    {
      "cell_type": "markdown",
      "source": [
        "# Alice's Encryption\n",
        "One-time pad encryption means that Alice starts with a plaintext message typed by the user. The message is then converted into digital form, typically in bytes. Next, Alice’s program generates a random key that’s exactly as long as the message. This random key is needed for security, because if the key is truly unpredictable, it prevents anyone from guessing the original text. The encryption step uses the XOR (exclusive OR) operation, which compares each bit of the plaintext with the corresponding bit of the key. If the bits are different, it writes a 1; if they are the same, it writes a 0. This produces the ciphertext, which is unreadable unless you have the key. Finally, Alice saves the ciphertext and key in a shared or secure location. If the key stays secret and is never reused, the one-time pad offers nearly perfect security. This approach makes sure that without the key, decryption is impossible."
      ],
      "metadata": {
        "id": "Z0h2aZ5nK2XJ"
      }
    },
    {
      "cell_type": "code",
      "source": [
        "def otp_decrypt(ciphertext: bytes, key: bytes) -> bytes:\n",
        "    \"\"\"One-Time Pad decryption: plaintext = ciphertext XOR key.\"\"\"\n",
        "    return bytes([c ^ k for c, k in zip(ciphertext, key)])\n",
        "\n",
        "# ===Bob's decryption===\n",
        "# Read the hex-encoded key and ciphertext from the files saved above\n",
        "with open(\"key.hex\", \"r\") as f_key:\n",
        "    key_hex = f_key.read().strip()\n",
        "\n",
        "with open(\"ciphertext.hex\", \"r\") as f_ct:\n",
        "    ciphertext_hex = f_ct.read().strip()\n",
        "\n",
        "# Convert hex to bytes\n",
        "key_bytes = bytes.fromhex(key_hex)\n",
        "ciphertext_bytes = bytes.fromhex(ciphertext_hex)\n",
        "\n",
        "# Decrypt by XOR\n",
        "decrypted_bytes = otp_decrypt(ciphertext_bytes, key_bytes)\n",
        "\n",
        "# Convert the decrypted bytes back to string\n",
        "decrypted_str = decrypted_bytes.decode('utf-8', errors='replace')\n",
        "\n",
        "print(f\"\\n--- Decryption Complete ---\")\n",
        "print(f\"Decrypted Plaintext: {decrypted_str}\")\n"
      ],
      "metadata": {
        "colab": {
          "base_uri": "https://localhost:8080/"
        },
        "id": "NXpzew0GJi8D",
        "outputId": "5d8b9f59-b7f1-472d-ed2f-8e859a1fdf78"
      },
      "execution_count": 2,
      "outputs": [
        {
          "output_type": "stream",
          "name": "stdout",
          "text": [
            "\n",
            "--- Decryption Complete ---\n",
            "Decrypted Plaintext: hello world\n"
          ]
        }
      ]
    },
    {
      "cell_type": "markdown",
      "source": [
        "# Bob's Decryption"
      ],
      "metadata": {
        "id": "lHmkTgMOK9sH"
      }
    },
    {
      "cell_type": "markdown",
      "source": [
        "While Alice is responsible for encrypting a message with the one-time pad, Bob’s job is to do the reverse process: decryption. He starts by receiving the ciphertext and the key, which are stored here in separate files. He reads them in, converting from hexadecimal format back into bytes, making sure he works with the exact same data used by Alice. Then, Bob performs the XOR operation again, this time using the ciphertext and the key as inputs. Because XOR is its own inverse, applying it once more recovers the original plaintext. If Alice’s key and ciphertext were transmitted correctly, Bob’s decrypted output will match the exact message Alice sent. After that, Bob simply converts the plaintext bytes back into letters, displaying them on his screen. This part of the process shows the importance to keep the key safe, since anyone who has it can completely read the secret messages."
      ],
      "metadata": {
        "id": "Ec6vcO7tK_cw"
      }
    }
  ]
}