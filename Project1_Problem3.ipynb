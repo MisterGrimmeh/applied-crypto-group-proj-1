{
 "cells": [
  {
   "cell_type": "markdown",
   "id": "c34c5044-c1ee-466f-8be3-ad2a65f2eed8",
   "metadata": {},
   "source": [
    "# Problem 3: Implementing Many-Time Pad"
   ]
  },
  {
   "cell_type": "code",
   "execution_count": 18,
   "id": "00e90f0e-5325-4d8f-92b3-1f44944ccecd",
   "metadata": {},
   "outputs": [
    {
     "name": "stdin",
     "output_type": "stream",
     "text": [
      "Enter the plaintext:  hello world\n",
      "Enter the plaintext:  my name is alice\n",
      "Enter the plaintext:  are you bob\n",
      "Enter the plaintext:  i hope trudy is not watching this\n",
      "Enter the plaintext:  there need to be 10 lines\n",
      "Enter the plaintext:  and i ran out of text already\n",
      "Enter the plaintext:  but yet i must persevere on\n",
      "Enter the plaintext:  to the depths of mount doom\n",
      "Enter the plaintext:  and so on\n",
      "Enter the plaintext:  and on\n"
     ]
    },
    {
     "name": "stdout",
     "output_type": "stream",
     "text": [
      "\n",
      "--- Encryption Complete ---\n",
      "Plaintext:         ['68656c6c6f20776f726c64', '6d79206e616d6520697320616c696365', '61726520796f7520626f62', '6920686f7065207472756479206973206e6f74207761746368696e672074686973', '7468657265206e65656420746f206265203130206c696e6573', '616e6420692072616e206f7574206f66207465787420616c7265616479', '627574207965742069206d75737420706572736576657265206f6e', '746f2074686520646570746873206f66206d6f756e7420646f6f6d', '616e6420736f206f6e', '616e64206f6e']\n",
      "Key (hex):         33f198a8fb270f8e6ff8e43ab52f202a611fe5f9d3fa236bf6ebbbca05e27b0633\n",
      "Ciphertext (hex):  ['5b94f4c4940778e11d9480', '5e88b8c69a4a6aae068bc45bd946434f', '5283fd8882487aae0d9786', '5ad1f0c78b422ffa1d8d80439546530a0f7091d9a49b57089e82d5ad2596136f40', '4799fdda9e0761eb0a9cc44eda0f424f412ed5d9bf934d0e85', '529ffc8892077def01d88b4fc10f4f4c416b8081a7da4207848edaae7c', '5184ec8882427bae06d8894fc65b005a046d969ca59f510ed684d5', '479eb8dc93422fea0a889052c60f4f4c41728a8cbd8e030f9984d6', '529ffc8888482fe101', '529ffc889449']\n"
     ]
    }
   ],
   "source": [
    "import secrets\n",
    "\n",
    "def mtp_encrypt(plaintext: bytes, key: bytes) -> bytes:\n",
    "    \"\"\"Many-Time Pad encryption: ciphertext = plaintext XOR key.\"\"\"\n",
    "    return bytes([p ^ k for p, k in zip(plaintext, key)])\n",
    "    \n",
    "many_times = 10\n",
    "plaintext_bytes = [None] * many_times\n",
    "plaintext_hex = [None] * many_times\n",
    "ciphertext_hex = [None] * many_times\n",
    "\n",
    "# === Alice's encryption ===\n",
    "for i in range(many_times):\n",
    "    plaintext_str = input(\"Enter the plaintext: \")\n",
    "    plaintext_bytes[i] = plaintext_str.encode('utf-8')\n",
    "    plaintext_hex[i] = plaintext_bytes[i].hex()\n",
    "\n",
    "# Generate random key of the max length needed\n",
    "key_bytes = secrets.token_bytes(max(len(j) for j in plaintext_bytes))\n",
    "# Convert to hex for storage\n",
    "key_hex = key_bytes.hex()\n",
    "\n",
    "# Encrypt via OTP (XOR)\n",
    "for i in range(many_times):\n",
    "    ciphertext_bytes = mtp_encrypt(plaintext_bytes[i], key_bytes)\n",
    "    # Convert to hex for storage\n",
    "    ciphertext_hex[i] = ciphertext_bytes.hex()\n",
    "\n",
    "# Write to separate files\n",
    "with open(\"plaintext.hex\", \"w\") as f_pt:\n",
    "    for line in plaintext_hex:\n",
    "        f_pt.write(\" \".join(line) + \"\\n\")\n",
    "\n",
    "with open(\"ciphertext.hex\", \"w\") as f_ct:\n",
    "    for line in ciphertext_hex:\n",
    "        f_ct.write(\" \".join(line) + \"\\n\")\n",
    "\n",
    "with open(\"key.hex\", \"w\") as f_key:\n",
    "    f_key.write(key_hex)\n",
    "\n",
    "print(f\"\\n--- Encryption Complete ---\")\n",
    "print(f\"Plaintext:         {plaintext_hex}\")\n",
    "print(f\"Key (hex):         {key_hex}\")\n",
    "print(f\"Ciphertext (hex):  {ciphertext_hex}\")"
   ]
  },
  {
   "cell_type": "code",
   "execution_count": null,
   "id": "e8cf991e-55d5-4867-ab8e-e8356723b64a",
   "metadata": {},
   "outputs": [],
   "source": []
  }
 ],
 "metadata": {
  "kernelspec": {
   "display_name": "Python 3 (ipykernel)",
   "language": "python",
   "name": "python3"
  },
  "language_info": {
   "codemirror_mode": {
    "name": "ipython",
    "version": 3
   },
   "file_extension": ".py",
   "mimetype": "text/x-python",
   "name": "python",
   "nbconvert_exporter": "python",
   "pygments_lexer": "ipython3",
   "version": "3.13.2"
  }
 },
 "nbformat": 4,
 "nbformat_minor": 5
}
